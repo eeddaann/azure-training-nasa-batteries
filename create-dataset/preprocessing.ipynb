{
  "cells": [
    {
      "cell_type": "code",
      "execution_count": null,
      "metadata": {
        "gather": {
          "logged": 1644914210689
        },
        "jupyter": {
          "outputs_hidden": false,
          "source_hidden": false
        },
        "nteract": {
          "transient": {
            "deleting": false
          }
        }
      },
      "outputs": [],
      "source": [
        "import datetime\n",
        "import numpy as np\n",
        "import pandas as pd\n",
        "from scipy.io import loadmat"
      ]
    },
    {
      "cell_type": "markdown",
      "metadata": {},
      "source": [
        "## download data with bash"
      ]
    },
    {
      "cell_type": "code",
      "execution_count": null,
      "metadata": {
        "gather": {
          "logged": 1644913996024
        },
        "jupyter": {
          "outputs_hidden": false,
          "source_hidden": false
        },
        "nteract": {
          "transient": {
            "deleting": false
          }
        }
      },
      "outputs": [],
      "source": [
        "!wget -cq https://ti.arc.nasa.gov/c/5 -O nasa.zip\n",
        "!unzip -qqo nasa.zip -d battery_data"
      ]
    },
    {
      "cell_type": "markdown",
      "metadata": {},
      "source": [
        "## function to convert the data from matlab format to dataframe"
      ]
    },
    {
      "cell_type": "code",
      "execution_count": null,
      "metadata": {
        "gather": {
          "logged": 1644917552586
        },
        "jupyter": {
          "outputs_hidden": false,
          "source_hidden": false
        },
        "nteract": {
          "transient": {
            "deleting": false
          }
        }
      },
      "outputs": [],
      "source": [
        "# Based on https://www.kaggle.com/rajeevsharma993/battery-health-nasa-dataset\n",
        "def load_data(battery):\n",
        "  mat = loadmat('battery_data/' + battery + '.mat')\n",
        "  print('Total data in dataset: ', len(mat[battery][0, 0]['cycle'][0]))\n",
        "  counter = 0\n",
        "  dataset = []\n",
        "  capacity_data = []\n",
        "  \n",
        "  for i in range(len(mat[battery][0, 0]['cycle'][0])):\n",
        "    row = mat[battery][0, 0]['cycle'][0, i]\n",
        "    if row['type'][0] == 'discharge':\n",
        "      ambient_temperature = row['ambient_temperature'][0][0]\n",
        "      date_time = datetime.datetime(int(row['time'][0][0]),\n",
        "                               int(row['time'][0][1]),\n",
        "                               int(row['time'][0][2]),\n",
        "                               int(row['time'][0][3]),\n",
        "                               int(row['time'][0][4])) + datetime.timedelta(seconds=int(row['time'][0][5]))\n",
        "      data = row['data']\n",
        "      capacity = data[0][0]['Capacity'][0][0]\n",
        "      for j in range(len(data[0][0]['Voltage_measured'][0])):\n",
        "        voltage_measured = data[0][0]['Voltage_measured'][0][j]\n",
        "        current_measured = data[0][0]['Current_measured'][0][j]\n",
        "        temperature_measured = data[0][0]['Temperature_measured'][0][j]\n",
        "        current_load = data[0][0]['Current_load'][0][j]\n",
        "        voltage_load = data[0][0]['Voltage_load'][0][j]\n",
        "        time = data[0][0]['Time'][0][j]\n",
        "        dataset.append([counter + 1, ambient_temperature, date_time, capacity,\n",
        "                        voltage_measured, current_measured,\n",
        "                        temperature_measured, current_load,\n",
        "                        voltage_load, time])\n",
        "      capacity_data.append([counter + 1, ambient_temperature, date_time, capacity])\n",
        "      counter = counter + 1\n",
        "  print(dataset[0])\n",
        "  return [pd.DataFrame(data=dataset,\n",
        "                       columns=['cycle', 'ambient_temperature', 'datetime',\n",
        "                                'capacity', 'voltage_measured',\n",
        "                                'current_measured', 'temperature_measured',\n",
        "                                'current_load', 'voltage_load', 'time']),\n",
        "          pd.DataFrame(data=capacity_data,\n",
        "                       columns=['cycle', 'ambient_temperature', 'datetime',\n",
        "                                'capacity'])]"
      ]
    },
    {
      "cell_type": "markdown",
      "metadata": {},
      "source": [
        "## iterate over files, convert to parquet"
      ]
    },
    {
      "cell_type": "code",
      "execution_count": null,
      "metadata": {
        "gather": {
          "logged": 1644919203229
        },
        "jupyter": {
          "outputs_hidden": false,
          "source_hidden": false
        },
        "nteract": {
          "transient": {
            "deleting": false
          }
        }
      },
      "outputs": [],
      "source": [
        "import os\n",
        "capacities = []\n",
        "os.makedirs(\"capacities\", exist_ok=True)\n",
        "os.makedirs(\"time_series\", exist_ok=True)\n",
        "for battery in os.listdir('battery_data/'):\n",
        "    if battery.endswith('.mat'): # exclude text files\n",
        "        dataset, capacity = load_data(battery[:-4])\n",
        "        dataset['bat_id'] = battery[:-4]\n",
        "        capacity['bat_id'] = battery[:-4]\n",
        "        capacities.append(capacity)\n",
        "        dataset.to_parquet(\"time_series/%s.parquet\"%(battery[:-4]),index=False)\n",
        "        capacity.to_parquet(\"capacities/%s.parquet\"%(battery[:-4]),index=False)"
      ]
    },
    {
      "cell_type": "markdown",
      "metadata": {},
      "source": [
        "## upload parquets to blob storage"
      ]
    },
    {
      "cell_type": "code",
      "execution_count": null,
      "metadata": {
        "gather": {
          "logged": 1644917564503
        },
        "jupyter": {
          "outputs_hidden": false,
          "source_hidden": false
        },
        "nteract": {
          "transient": {
            "deleting": false
          }
        }
      },
      "outputs": [],
      "source": [
        "from azureml.core import Workspace\n",
        "ws = Workspace.from_config()\n",
        "datastore = ws.get_default_datastore()\n",
        "datastore.upload(\n",
        "    src_dir='./capacities',\n",
        "    target_path='capacities',\n",
        "    overwrite=True,\n",
        "    )"
      ]
    },
    {
      "cell_type": "markdown",
      "metadata": {},
      "source": [
        "## plot Li-ion Battery Aging"
      ]
    },
    {
      "cell_type": "code",
      "execution_count": null,
      "metadata": {
        "gather": {
          "logged": 1644919603887
        },
        "jupyter": {
          "outputs_hidden": false,
          "source_hidden": false
        },
        "nteract": {
          "transient": {
            "deleting": false
          }
        }
      },
      "outputs": [],
      "source": [
        "import matplotlib.pyplot as plt\n",
        "for capacity in capacities:\n",
        "    plt.plot(capacity.cycle, capacity.capacity, label=capacity.bat_id.iloc[0])\n",
        "\n",
        "plt.title(\"Li-ion Battery Aging\")\n",
        "plt.xlabel(\"number of cycles\")\n",
        "plt.ylabel(\"Battery capacity (Ahr)\")\n",
        "plt.legend()"
      ]
    }
  ],
  "metadata": {
    "kernel_info": {
      "name": "python3-azureml"
    },
    "kernelspec": {
      "display_name": "Python 3.6 - AzureML",
      "language": "python",
      "name": "python3-azureml"
    },
    "language_info": {
      "codemirror_mode": {
        "name": "ipython",
        "version": 3
      },
      "file_extension": ".py",
      "mimetype": "text/x-python",
      "name": "python",
      "nbconvert_exporter": "python",
      "pygments_lexer": "ipython3",
      "version": "3.6.9"
    },
    "microsoft": {
      "host": {
        "AzureML": {
          "notebookHasBeenCompleted": true
        }
      }
    },
    "nteract": {
      "version": "nteract-front-end@1.0.0"
    }
  },
  "nbformat": 4,
  "nbformat_minor": 2
}
